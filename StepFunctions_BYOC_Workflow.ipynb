{
 "cells": [
  {
   "cell_type": "markdown",
   "metadata": {},
   "source": [
    "# StepFunctions Data Science SDK for BYO Container"
   ]
  },
  {
   "cell_type": "markdown",
   "metadata": {},
   "source": [
    "Here we demonstrate how to use the StepFunction Data Science SDK to do an end-to-end data science workflow where you bring your own code and deploy a model on SageMaker.\n",
    "\n",
    "The Steps are as follows:\n",
    "\n",
    "\n",
    "1/ Create a Lambda function which launches a CodeBuild job that launches the creation of your Docker container. (Steps for this are included separately)\n",
    "\n",
    "2/ Launch the Lambda function as a Step Functions workflow. \n",
    "\n",
    "3/ Once the Docker container is built, launch a SageMaker training job using SF DS SDK.\n",
    "\n",
    "4/ Use the DS SDK to deploy the trained model."
   ]
  },
  {
   "cell_type": "markdown",
   "metadata": {},
   "source": [
    "## TODO: IAM Roles and Permissions\n",
    "\n",
    "Before running the code, ensure that your Amazon SageMaker notebook IAM role can call the AWS StepFunctions SDK, and vice-versa.\n",
    "\n",
    "To do this, follow the steps in the Setup Section of this notebook upto the section \"Configure Execution Roles\": https://github.com/awslabs/amazon-sagemaker-examples/blob/master/step-functions-data-science-sdk/machine_learning_workflow_abalone/machine_learning_workflow_abalone.ipynb\n",
    "\n",
    "\n",
    "If you have already completed this, then ignore this section and move on to the next."
   ]
  },
  {
   "cell_type": "markdown",
   "metadata": {},
   "source": [
    "## Import necessary libraries"
   ]
  },
  {
   "cell_type": "code",
   "execution_count": 101,
   "metadata": {},
   "outputs": [],
   "source": [
    "# Import required libraries and upload the training data to S3\n",
    "import boto3\n",
    "import os\n",
    "import numpy as np\n",
    "import pandas as pd\n",
    "import sagemaker\n",
    "from sagemaker import get_execution_role\n",
    "import time\n",
    "import uuid\n",
    "\n",
    "\n",
    "\n",
    "role = get_execution_role()\n",
    "sess = sagemaker.Session()\n",
    "bucket = sess.default_bucket() # or feel free to replace with a bucket of your choosing\n",
    "WORK_DIRECTORY = 'PennFudanPed'\n",
    "key = 'BYO-Mask-RCNN'\n",
    "prefix = '{}/{}'.format(key, WORK_DIRECTORY)"
   ]
  },
  {
   "cell_type": "code",
   "execution_count": 2,
   "metadata": {},
   "outputs": [
    {
     "name": "stdout",
     "output_type": "stream",
     "text": [
      "Requirement already up-to-date: stepfunctions in /home/ec2-user/anaconda3/envs/python3/lib/python3.6/site-packages (1.0.0.4)\n",
      "Requirement already satisfied, skipping upgrade: pyyaml in /home/ec2-user/anaconda3/envs/python3/lib/python3.6/site-packages (from stepfunctions) (3.12)\n",
      "Requirement already satisfied, skipping upgrade: sagemaker>=1.42.8 in /home/ec2-user/anaconda3/envs/python3/lib/python3.6/site-packages (from stepfunctions) (1.43.1)\n",
      "Requirement already satisfied, skipping upgrade: boto3>=1.9.213 in /home/ec2-user/anaconda3/envs/python3/lib/python3.6/site-packages (from stepfunctions) (1.10.33)\n",
      "Requirement already satisfied, skipping upgrade: scipy>=0.19.0 in /home/ec2-user/anaconda3/envs/python3/lib/python3.6/site-packages (from sagemaker>=1.42.8->stepfunctions) (1.1.0)\n",
      "Requirement already satisfied, skipping upgrade: requests<2.21,>=2.20.0 in /home/ec2-user/anaconda3/envs/python3/lib/python3.6/site-packages (from sagemaker>=1.42.8->stepfunctions) (2.20.0)\n",
      "Requirement already satisfied, skipping upgrade: urllib3<1.25,>=1.21 in /home/ec2-user/anaconda3/envs/python3/lib/python3.6/site-packages (from sagemaker>=1.42.8->stepfunctions) (1.23)\n",
      "Requirement already satisfied, skipping upgrade: protobuf3-to-dict>=0.1.5 in /home/ec2-user/anaconda3/envs/python3/lib/python3.6/site-packages (from sagemaker>=1.42.8->stepfunctions) (0.1.5)\n",
      "Requirement already satisfied, skipping upgrade: numpy>=1.9.0 in /home/ec2-user/anaconda3/envs/python3/lib/python3.6/site-packages (from sagemaker>=1.42.8->stepfunctions) (1.14.3)\n",
      "Requirement already satisfied, skipping upgrade: protobuf>=3.1 in /home/ec2-user/anaconda3/envs/python3/lib/python3.6/site-packages (from sagemaker>=1.42.8->stepfunctions) (3.6.1)\n",
      "Requirement already satisfied, skipping upgrade: fabric>=2.0 in /home/ec2-user/anaconda3/envs/python3/lib/python3.6/site-packages (from sagemaker>=1.42.8->stepfunctions) (2.5.0)\n",
      "Requirement already satisfied, skipping upgrade: docker-compose>=1.23.0 in /home/ec2-user/anaconda3/envs/python3/lib/python3.6/site-packages (from sagemaker>=1.42.8->stepfunctions) (1.24.1)\n",
      "Requirement already satisfied, skipping upgrade: s3transfer<0.3.0,>=0.2.0 in /home/ec2-user/anaconda3/envs/python3/lib/python3.6/site-packages (from boto3>=1.9.213->stepfunctions) (0.2.1)\n",
      "Requirement already satisfied, skipping upgrade: botocore<1.14.0,>=1.13.33 in /home/ec2-user/anaconda3/envs/python3/lib/python3.6/site-packages (from boto3>=1.9.213->stepfunctions) (1.13.33)\n",
      "Requirement already satisfied, skipping upgrade: jmespath<1.0.0,>=0.7.1 in /home/ec2-user/anaconda3/envs/python3/lib/python3.6/site-packages (from boto3>=1.9.213->stepfunctions) (0.9.4)\n",
      "Requirement already satisfied, skipping upgrade: chardet<3.1.0,>=3.0.2 in /home/ec2-user/anaconda3/envs/python3/lib/python3.6/site-packages (from requests<2.21,>=2.20.0->sagemaker>=1.42.8->stepfunctions) (3.0.4)\n",
      "Requirement already satisfied, skipping upgrade: certifi>=2017.4.17 in /home/ec2-user/anaconda3/envs/python3/lib/python3.6/site-packages (from requests<2.21,>=2.20.0->sagemaker>=1.42.8->stepfunctions) (2019.6.16)\n",
      "Requirement already satisfied, skipping upgrade: idna<2.8,>=2.5 in /home/ec2-user/anaconda3/envs/python3/lib/python3.6/site-packages (from requests<2.21,>=2.20.0->sagemaker>=1.42.8->stepfunctions) (2.6)\n",
      "Requirement already satisfied, skipping upgrade: six in /home/ec2-user/anaconda3/envs/python3/lib/python3.6/site-packages (from protobuf3-to-dict>=0.1.5->sagemaker>=1.42.8->stepfunctions) (1.11.0)\n",
      "Requirement already satisfied, skipping upgrade: setuptools in /home/ec2-user/anaconda3/envs/python3/lib/python3.6/site-packages (from protobuf>=3.1->sagemaker>=1.42.8->stepfunctions) (39.1.0)\n",
      "Requirement already satisfied, skipping upgrade: paramiko>=2.4 in /home/ec2-user/anaconda3/envs/python3/lib/python3.6/site-packages (from fabric>=2.0->sagemaker>=1.42.8->stepfunctions) (2.6.0)\n",
      "Requirement already satisfied, skipping upgrade: invoke<2.0,>=1.3 in /home/ec2-user/anaconda3/envs/python3/lib/python3.6/site-packages (from fabric>=2.0->sagemaker>=1.42.8->stepfunctions) (1.3.0)\n",
      "Requirement already satisfied, skipping upgrade: jsonschema<3,>=2.5.1 in /home/ec2-user/anaconda3/envs/python3/lib/python3.6/site-packages (from docker-compose>=1.23.0->sagemaker>=1.42.8->stepfunctions) (2.6.0)\n",
      "Requirement already satisfied, skipping upgrade: texttable<0.10,>=0.9.0 in /home/ec2-user/anaconda3/envs/python3/lib/python3.6/site-packages (from docker-compose>=1.23.0->sagemaker>=1.42.8->stepfunctions) (0.9.1)\n",
      "Requirement already satisfied, skipping upgrade: docopt<0.7,>=0.6.1 in /home/ec2-user/anaconda3/envs/python3/lib/python3.6/site-packages (from docker-compose>=1.23.0->sagemaker>=1.42.8->stepfunctions) (0.6.2)\n",
      "Requirement already satisfied, skipping upgrade: dockerpty<0.5,>=0.4.1 in /home/ec2-user/anaconda3/envs/python3/lib/python3.6/site-packages (from docker-compose>=1.23.0->sagemaker>=1.42.8->stepfunctions) (0.4.1)\n",
      "Requirement already satisfied, skipping upgrade: docker[ssh]<4.0,>=3.7.0 in /home/ec2-user/anaconda3/envs/python3/lib/python3.6/site-packages (from docker-compose>=1.23.0->sagemaker>=1.42.8->stepfunctions) (3.7.3)\n",
      "Requirement already satisfied, skipping upgrade: websocket-client<1.0,>=0.32.0 in /home/ec2-user/anaconda3/envs/python3/lib/python3.6/site-packages (from docker-compose>=1.23.0->sagemaker>=1.42.8->stepfunctions) (0.56.0)\n",
      "Requirement already satisfied, skipping upgrade: cached-property<2,>=1.2.0 in /home/ec2-user/anaconda3/envs/python3/lib/python3.6/site-packages (from docker-compose>=1.23.0->sagemaker>=1.42.8->stepfunctions) (1.5.1)\n",
      "Requirement already satisfied, skipping upgrade: docutils<0.16,>=0.10 in /home/ec2-user/anaconda3/envs/python3/lib/python3.6/site-packages (from botocore<1.14.0,>=1.13.33->boto3>=1.9.213->stepfunctions) (0.14)\n",
      "Requirement already satisfied, skipping upgrade: python-dateutil<2.8.1,>=2.1; python_version >= \"2.7\" in /home/ec2-user/anaconda3/envs/python3/lib/python3.6/site-packages (from botocore<1.14.0,>=1.13.33->boto3>=1.9.213->stepfunctions) (2.7.3)\n",
      "Requirement already satisfied, skipping upgrade: bcrypt>=3.1.3 in /home/ec2-user/anaconda3/envs/python3/lib/python3.6/site-packages (from paramiko>=2.4->fabric>=2.0->sagemaker>=1.42.8->stepfunctions) (3.1.7)\n",
      "Requirement already satisfied, skipping upgrade: pynacl>=1.0.1 in /home/ec2-user/anaconda3/envs/python3/lib/python3.6/site-packages (from paramiko>=2.4->fabric>=2.0->sagemaker>=1.42.8->stepfunctions) (1.3.0)\n",
      "Requirement already satisfied, skipping upgrade: cryptography>=2.5 in /home/ec2-user/anaconda3/envs/python3/lib/python3.6/site-packages (from paramiko>=2.4->fabric>=2.0->sagemaker>=1.42.8->stepfunctions) (2.7)\n",
      "Requirement already satisfied, skipping upgrade: docker-pycreds>=0.4.0 in /home/ec2-user/anaconda3/envs/python3/lib/python3.6/site-packages (from docker[ssh]<4.0,>=3.7.0->docker-compose>=1.23.0->sagemaker>=1.42.8->stepfunctions) (0.4.0)\n",
      "Requirement already satisfied, skipping upgrade: cffi>=1.1 in /home/ec2-user/anaconda3/envs/python3/lib/python3.6/site-packages (from bcrypt>=3.1.3->paramiko>=2.4->fabric>=2.0->sagemaker>=1.42.8->stepfunctions) (1.11.5)\n",
      "Requirement already satisfied, skipping upgrade: asn1crypto>=0.21.0 in /home/ec2-user/anaconda3/envs/python3/lib/python3.6/site-packages (from cryptography>=2.5->paramiko>=2.4->fabric>=2.0->sagemaker>=1.42.8->stepfunctions) (0.24.0)\n",
      "Requirement already satisfied, skipping upgrade: pycparser in /home/ec2-user/anaconda3/envs/python3/lib/python3.6/site-packages (from cffi>=1.1->bcrypt>=3.1.3->paramiko>=2.4->fabric>=2.0->sagemaker>=1.42.8->stepfunctions) (2.18)\n",
      "\u001b[33mWARNING: You are using pip version 19.3.1; however, version 20.0.2 is available.\n",
      "You should consider upgrading via the 'pip install --upgrade pip' command.\u001b[0m\n"
     ]
    }
   ],
   "source": [
    "# install StepFunctions SDK\n",
    "import sys\n",
    "!{sys.executable} -m pip install --upgrade stepfunctions"
   ]
  },
  {
   "cell_type": "code",
   "execution_count": 4,
   "metadata": {},
   "outputs": [],
   "source": [
    "import stepfunctions\n",
    "import logging\n",
    "from stepfunctions.steps import (LambdaStep, Retry, Catch, Fail, Chain, TrainingStep, ModelStep, EndpointConfigStep, EndpointStep)\n",
    "from stepfunctions.workflow import Workflow\n",
    "from stepfunctions.template.pipeline import TrainingPipeline\n",
    "from stepfunctions.inputs import ExecutionInput\n",
    "\n",
    "stepfunctions.set_stream_logger(level=logging.INFO)\n",
    "\n",
    "# TODO: replace the IAM role below with the StepFunctionsWorkflowExecutionRole ARN from above in \"<>\"\n",
    "workflow_execution_role = \"arn:aws:iam::{accountnum}:role/StepFunctionsSageMakerRole\" "
   ]
  },
  {
   "cell_type": "markdown",
   "metadata": {},
   "source": [
    "## Upload the training dataset to Amazon S3"
   ]
  },
  {
   "cell_type": "code",
   "execution_count": 4,
   "metadata": {},
   "outputs": [
    {
     "name": "stdout",
     "output_type": "stream",
     "text": [
      "s3://sagemaker-us-east-1-389535300735/BYO-Mask-RCNN/PennFudanPed\n"
     ]
    }
   ],
   "source": [
    "data_location = sess.upload_data(WORK_DIRECTORY, bucket=bucket, key_prefix=prefix)\n",
    "print(data_location)"
   ]
  },
  {
   "cell_type": "markdown",
   "metadata": {},
   "source": [
    "# Define Estimator and StepFunctions Workflow"
   ]
  },
  {
   "cell_type": "code",
   "execution_count": 43,
   "metadata": {},
   "outputs": [],
   "source": [
    "account = sess.boto_session.client('sts').get_caller_identity()['Account']\n",
    "region = sess.boto_session.region_name\n",
    "\n",
    "# Note that this image name will work below provided you have made the changes to the Environment variables in the Lambda\n",
    "#defintion as suggested in the workshop Readme. If not please make those first.\n",
    "\n",
    "image = '{}.dkr.ecr.{}.amazonaws.com/sm-container-maskrcnn:torch'.format(account, region) \n",
    "\n",
    "maskrcnn = sagemaker.estimator.Estimator(image,\n",
    "                       role, 1, 'ml.p2.xlarge', #feel free to modify with your own. A cost estimate is provided in Readme.\n",
    "                       output_path=\"s3://{}/{}/output\".format(sess.default_bucket(), key),\n",
    "                       sagemaker_session=sess)\n",
    "\n",
    "maskrcnn.set_hyperparameters(num_epochs = 1,\n",
    "                              num_classes = 2)\n",
    "\n",
    "#maskrcnn.fit(os.path.dirname(data_location))"
   ]
  },
  {
   "cell_type": "markdown",
   "metadata": {},
   "source": [
    "### Create StepFunction Pipeline"
   ]
  },
  {
   "cell_type": "code",
   "execution_count": 44,
   "metadata": {},
   "outputs": [],
   "source": [
    "lambda_state = LambdaStep(\n",
    "    state_id=\"Calls CodeBuild to Build Container\",\n",
    "    parameters={  \n",
    "        \"FunctionName\": \"Docker_Lambda\", #TODO: replace with the name of the Lambda function you created\n",
    "        \"Payload\": {  \n",
    "           \"input\": \"HelloWorld\"\n",
    "        }\n",
    "    }\n",
    ")\n",
    "\n",
    "lambda_state.add_retry(Retry(\n",
    "    error_equals=[\"States.TaskFailed\"],\n",
    "    interval_seconds=15,\n",
    "    max_attempts=2,\n",
    "    backoff_rate=4.0\n",
    "))\n",
    "\n",
    "lambda_state.add_catch(Catch(\n",
    "    error_equals=[\"States.TaskFailed\"],\n",
    "    next_step=Fail(\"LambdaTaskFailed\")\n",
    "))"
   ]
  },
  {
   "cell_type": "code",
   "execution_count": 87,
   "metadata": {},
   "outputs": [],
   "source": [
    "execution_input = ExecutionInput(schema={\n",
    "    'JobName': str, \n",
    "    'ModelName': str,\n",
    "    'EndpointName': str\n",
    "})"
   ]
  },
  {
   "cell_type": "code",
   "execution_count": 88,
   "metadata": {},
   "outputs": [],
   "source": [
    "train_step = TrainingStep(\n",
    "    'Train Step', \n",
    "    estimator=maskrcnn,\n",
    "#    role=workflow_execution_role,\n",
    "    data=os.path.dirname(data_location),\n",
    "    job_name=execution_input['JobName']\n",
    ")"
   ]
  },
  {
   "cell_type": "code",
   "execution_count": 89,
   "metadata": {},
   "outputs": [],
   "source": [
    "model_step = ModelStep(\n",
    "    'Save model',\n",
    "    model=train_step.get_expected_model(),\n",
    "    model_name=execution_input['ModelName'] \n",
    ")"
   ]
  },
  {
   "cell_type": "code",
   "execution_count": 90,
   "metadata": {},
   "outputs": [],
   "source": [
    "endpoint_config_step = EndpointConfigStep(\n",
    "    \"Create Endpoint Config\",\n",
    "    endpoint_config_name=execution_input['ModelName'],\n",
    "    model_name=execution_input['ModelName'],\n",
    "    initial_instance_count=1,\n",
    "    instance_type='ml.m5.large'\n",
    ")"
   ]
  },
  {
   "cell_type": "code",
   "execution_count": 91,
   "metadata": {},
   "outputs": [],
   "source": [
    "endpoint_step = EndpointStep(\n",
    "    \"Create Endpoint\",\n",
    "    endpoint_name=execution_input['EndpointName'],\n",
    "    endpoint_config_name=execution_input['ModelName']\n",
    ")"
   ]
  },
  {
   "cell_type": "code",
   "execution_count": 92,
   "metadata": {},
   "outputs": [],
   "source": [
    "workflow_definition = Chain([\n",
    "    lambda_state,\n",
    "    train_step,\n",
    "    model_step,\n",
    "    endpoint_config_step,\n",
    "    endpoint_step\n",
    "])\n",
    "\n",
    "# Next, we define the workflow\n",
    "workflow = Workflow(\n",
    "    name=\"MyWorkflow-BYOC-MaskRCNN-{}\".format(uuid.uuid1().hex),\n",
    "    definition=workflow_definition,\n",
    "    role=workflow_execution_role\n",
    ")"
   ]
  },
  {
   "cell_type": "code",
   "execution_count": 93,
   "metadata": {},
   "outputs": [
    {
     "name": "stdout",
     "output_type": "stream",
     "text": [
      "{\n",
      "    \"StartAt\": \"Calls CodeBuild to Build Container\",\n",
      "    \"States\": {\n",
      "        \"Calls CodeBuild to Build Container\": {\n",
      "            \"Parameters\": {\n",
      "                \"FunctionName\": \"Docker_Lambda\",\n",
      "                \"Payload\": {\n",
      "                    \"input\": \"HelloWorld\"\n",
      "                }\n",
      "            },\n",
      "            \"Resource\": \"arn:aws:states:::lambda:invoke\",\n",
      "            \"Type\": \"Task\",\n",
      "            \"Next\": \"Train Step\",\n",
      "            \"Retry\": [\n",
      "                {\n",
      "                    \"ErrorEquals\": [\n",
      "                        \"States.TaskFailed\"\n",
      "                    ],\n",
      "                    \"IntervalSeconds\": 15,\n",
      "                    \"MaxAttempts\": 2,\n",
      "                    \"BackoffRate\": 4.0\n",
      "                }\n",
      "            ],\n",
      "            \"Catch\": [\n",
      "                {\n",
      "                    \"ErrorEquals\": [\n",
      "                        \"States.TaskFailed\"\n",
      "                    ],\n",
      "                    \"Next\": \"LambdaTaskFailed\"\n",
      "                }\n",
      "            ]\n",
      "        },\n",
      "        \"Train Step\": {\n",
      "            \"Resource\": \"arn:aws:states:::sagemaker:createTrainingJob.sync\",\n",
      "            \"Parameters\": {\n",
      "                \"AlgorithmSpecification\": {\n",
      "                    \"TrainingImage\": \"389535300735.dkr.ecr.us-east-1.amazonaws.com/sm-container-maskrcnn:torch\",\n",
      "                    \"TrainingInputMode\": \"File\"\n",
      "                },\n",
      "                \"OutputDataConfig\": {\n",
      "                    \"S3OutputPath\": \"s3://sagemaker-us-east-1-389535300735/BYO-Mask-RCNN/output\"\n",
      "                },\n",
      "                \"StoppingCondition\": {\n",
      "                    \"MaxRuntimeInSeconds\": 86400\n",
      "                },\n",
      "                \"ResourceConfig\": {\n",
      "                    \"InstanceCount\": 1,\n",
      "                    \"InstanceType\": \"ml.p2.xlarge\",\n",
      "                    \"VolumeSizeInGB\": 30\n",
      "                },\n",
      "                \"RoleArn\": \"arn:aws:iam::389535300735:role/service-role/AmazonSageMaker-ExecutionRole-20190823T110499\",\n",
      "                \"InputDataConfig\": [\n",
      "                    {\n",
      "                        \"DataSource\": {\n",
      "                            \"S3DataSource\": {\n",
      "                                \"S3DataDistributionType\": \"FullyReplicated\",\n",
      "                                \"S3DataType\": \"S3Prefix\",\n",
      "                                \"S3Uri\": \"s3://sagemaker-us-east-1-389535300735/BYO-Mask-RCNN\"\n",
      "                            }\n",
      "                        },\n",
      "                        \"ChannelName\": \"training\"\n",
      "                    }\n",
      "                ],\n",
      "                \"HyperParameters\": {\n",
      "                    \"num_epochs\": \"1\",\n",
      "                    \"num_classes\": \"2\"\n",
      "                },\n",
      "                \"TrainingJobName.$\": \"$$.Execution.Input['JobName']\"\n",
      "            },\n",
      "            \"Type\": \"Task\",\n",
      "            \"Next\": \"Save model\"\n",
      "        },\n",
      "        \"Save model\": {\n",
      "            \"Parameters\": {\n",
      "                \"ExecutionRoleArn\": \"arn:aws:iam::389535300735:role/service-role/AmazonSageMaker-ExecutionRole-20190823T110499\",\n",
      "                \"ModelName.$\": \"$$.Execution.Input['ModelName']\",\n",
      "                \"PrimaryContainer\": {\n",
      "                    \"Environment\": {},\n",
      "                    \"Image\": \"389535300735.dkr.ecr.us-east-1.amazonaws.com/sm-container-maskrcnn:torch\",\n",
      "                    \"ModelDataUrl.$\": \"$['ModelArtifacts']['S3ModelArtifacts']\"\n",
      "                }\n",
      "            },\n",
      "            \"Resource\": \"arn:aws:states:::sagemaker:createModel\",\n",
      "            \"Type\": \"Task\",\n",
      "            \"Next\": \"Create Endpoint Config\"\n",
      "        },\n",
      "        \"Create Endpoint Config\": {\n",
      "            \"Resource\": \"arn:aws:states:::sagemaker:createEndpointConfig\",\n",
      "            \"Parameters\": {\n",
      "                \"EndpointConfigName.$\": \"$$.Execution.Input['ModelName']\",\n",
      "                \"ProductionVariants\": [\n",
      "                    {\n",
      "                        \"InitialInstanceCount\": 1,\n",
      "                        \"InstanceType\": \"ml.m5.large\",\n",
      "                        \"ModelName.$\": \"$$.Execution.Input['ModelName']\",\n",
      "                        \"VariantName\": \"AllTraffic\"\n",
      "                    }\n",
      "                ]\n",
      "            },\n",
      "            \"Type\": \"Task\",\n",
      "            \"Next\": \"Create Endpoint\"\n",
      "        },\n",
      "        \"Create Endpoint\": {\n",
      "            \"Resource\": \"arn:aws:states:::sagemaker:createEndpoint\",\n",
      "            \"Parameters\": {\n",
      "                \"EndpointConfigName.$\": \"$$.Execution.Input['ModelName']\",\n",
      "                \"EndpointName.$\": \"$$.Execution.Input['EndpointName']\"\n",
      "            },\n",
      "            \"Type\": \"Task\",\n",
      "            \"End\": true\n",
      "        },\n",
      "        \"LambdaTaskFailed\": {\n",
      "            \"Type\": \"Fail\"\n",
      "        }\n",
      "    }\n",
      "}\n"
     ]
    }
   ],
   "source": [
    "print(workflow.definition.to_json(pretty=True))"
   ]
  },
  {
   "cell_type": "code",
   "execution_count": 94,
   "metadata": {},
   "outputs": [
    {
     "data": {
      "text/html": [
       "\n",
       "<link rel=\"stylesheet\" type=\"text/css\" href=\"https://do0of8uwbahzz.cloudfront.net/graph.css\">\n",
       "<div id=\"graph-172\" class=\"workflowgraph\">\n",
       "    \n",
       "    <svg></svg>\n",
       "    \n",
       "</div>\n",
       "\n",
       "<script type=\"text/javascript\">\n",
       "\n",
       "require.config({\n",
       "    paths: {\n",
       "        sfn: \"https://do0of8uwbahzz.cloudfront.net/sfn\",\n",
       "    }\n",
       "});\n",
       "\n",
       "require(['sfn'], function(sfn) {\n",
       "    var options = {\n",
       "        width: $('#graph-172').width(),\n",
       "        height: 600,\n",
       "        layout: 'LR',\n",
       "        resizeHeight: true\n",
       "    };\n",
       "\n",
       "    var definition = {\"StartAt\": \"Calls CodeBuild to Build Container\", \"States\": {\"Calls CodeBuild to Build Container\": {\"Parameters\": {\"FunctionName\": \"Docker_Lambda\", \"Payload\": {\"input\": \"HelloWorld\"}}, \"Resource\": \"arn:aws:states:::lambda:invoke\", \"Type\": \"Task\", \"Next\": \"Train Step\", \"Retry\": [{\"ErrorEquals\": [\"States.TaskFailed\"], \"IntervalSeconds\": 15, \"MaxAttempts\": 2, \"BackoffRate\": 4.0}], \"Catch\": [{\"ErrorEquals\": [\"States.TaskFailed\"], \"Next\": \"LambdaTaskFailed\"}]}, \"Train Step\": {\"Resource\": \"arn:aws:states:::sagemaker:createTrainingJob.sync\", \"Parameters\": {\"AlgorithmSpecification\": {\"TrainingImage\": \"389535300735.dkr.ecr.us-east-1.amazonaws.com/sm-container-maskrcnn:torch\", \"TrainingInputMode\": \"File\"}, \"OutputDataConfig\": {\"S3OutputPath\": \"s3://sagemaker-us-east-1-389535300735/BYO-Mask-RCNN/output\"}, \"StoppingCondition\": {\"MaxRuntimeInSeconds\": 86400}, \"ResourceConfig\": {\"InstanceCount\": 1, \"InstanceType\": \"ml.p2.xlarge\", \"VolumeSizeInGB\": 30}, \"RoleArn\": \"arn:aws:iam::389535300735:role/service-role/AmazonSageMaker-ExecutionRole-20190823T110499\", \"InputDataConfig\": [{\"DataSource\": {\"S3DataSource\": {\"S3DataDistributionType\": \"FullyReplicated\", \"S3DataType\": \"S3Prefix\", \"S3Uri\": \"s3://sagemaker-us-east-1-389535300735/BYO-Mask-RCNN\"}}, \"ChannelName\": \"training\"}], \"HyperParameters\": {\"num_epochs\": \"1\", \"num_classes\": \"2\"}, \"TrainingJobName.$\": \"$$.Execution.Input['JobName']\"}, \"Type\": \"Task\", \"Next\": \"Save model\"}, \"Save model\": {\"Parameters\": {\"ExecutionRoleArn\": \"arn:aws:iam::389535300735:role/service-role/AmazonSageMaker-ExecutionRole-20190823T110499\", \"ModelName.$\": \"$$.Execution.Input['ModelName']\", \"PrimaryContainer\": {\"Environment\": {}, \"Image\": \"389535300735.dkr.ecr.us-east-1.amazonaws.com/sm-container-maskrcnn:torch\", \"ModelDataUrl.$\": \"$['ModelArtifacts']['S3ModelArtifacts']\"}}, \"Resource\": \"arn:aws:states:::sagemaker:createModel\", \"Type\": \"Task\", \"Next\": \"Create Endpoint Config\"}, \"Create Endpoint Config\": {\"Resource\": \"arn:aws:states:::sagemaker:createEndpointConfig\", \"Parameters\": {\"EndpointConfigName.$\": \"$$.Execution.Input['ModelName']\", \"ProductionVariants\": [{\"InitialInstanceCount\": 1, \"InstanceType\": \"ml.m5.large\", \"ModelName.$\": \"$$.Execution.Input['ModelName']\", \"VariantName\": \"AllTraffic\"}]}, \"Type\": \"Task\", \"Next\": \"Create Endpoint\"}, \"Create Endpoint\": {\"Resource\": \"arn:aws:states:::sagemaker:createEndpoint\", \"Parameters\": {\"EndpointConfigName.$\": \"$$.Execution.Input['ModelName']\", \"EndpointName.$\": \"$$.Execution.Input['EndpointName']\"}, \"Type\": \"Task\", \"End\": true}, \"LambdaTaskFailed\": {\"Type\": \"Fail\"}}};\n",
       "    var elementId = '#graph-172';\n",
       "\n",
       "    var graph = new sfn.StateMachineGraph(definition, elementId, options);\n",
       "    graph.render();\n",
       "});\n",
       "\n",
       "</script>\n"
      ],
      "text/plain": [
       "<IPython.core.display.HTML object>"
      ]
     },
     "execution_count": 94,
     "metadata": {},
     "output_type": "execute_result"
    }
   ],
   "source": [
    "workflow.render_graph()"
   ]
  },
  {
   "cell_type": "code",
   "execution_count": 95,
   "metadata": {},
   "outputs": [
    {
     "name": "stdout",
     "output_type": "stream",
     "text": [
      "\u001b[32m[INFO] Workflow created successfully on AWS Step Functions.\u001b[0m\n"
     ]
    },
    {
     "data": {
      "text/plain": [
       "'arn:aws:states:us-east-1:389535300735:stateMachine:MyWorkflow-BYOC-MaskRCNN-76b9b6dc445c11ea8176cdf90f0dd667'"
      ]
     },
     "execution_count": 95,
     "metadata": {},
     "output_type": "execute_result"
    }
   ],
   "source": [
    "workflow.create()"
   ]
  },
  {
   "cell_type": "code",
   "execution_count": 96,
   "metadata": {},
   "outputs": [
    {
     "name": "stdout",
     "output_type": "stream",
     "text": [
      "\u001b[32m[INFO] Workflow execution started successfully on AWS Step Functions.\u001b[0m\n"
     ]
    }
   ],
   "source": [
    "execution = workflow.execute(\n",
    "    inputs={\n",
    "        'JobName': 'BYOC-Mask-RCNN-{}'.format(uuid.uuid1().hex), # Each Sagemaker Job requires a unique name\n",
    "        'ModelName': 'BYOC-Mask-RCNN-{}'.format(uuid.uuid1().hex), # Each Model requires a unique name,\n",
    "        'EndpointName': 'BYOC-Mask-RCNN-{}'.format(uuid.uuid1().hex) # Each Endpoint requires a unique name,\n",
    "    }\n",
    ")"
   ]
  },
  {
   "cell_type": "markdown",
   "metadata": {},
   "source": [
    "## Watch the progress of your workflow here"
   ]
  },
  {
   "cell_type": "code",
   "execution_count": null,
   "metadata": {},
   "outputs": [
    {
     "data": {
      "text/html": [
       "\n",
       "<link rel=\"stylesheet\" type=\"text/css\" href=\"https://do0of8uwbahzz.cloudfront.net/graph.css\">\n",
       "<div id=\"graph-839\" class=\"workflowgraph\">\n",
       "    \n",
       "    <style>\n",
       "        .graph-legend ul {\n",
       "            list-style-type: none;\n",
       "            padding: 10px;\n",
       "            padding-left: 0;\n",
       "            margin: 0;\n",
       "            position: absolute;\n",
       "            top: 0;\n",
       "            background: transparent;\n",
       "        }\n",
       "\n",
       "        .graph-legend li {\n",
       "            margin-left: 10px;\n",
       "            display: inline-block;\n",
       "        }\n",
       "\n",
       "        .graph-legend li > div {\n",
       "            width: 10px;\n",
       "            height: 10px;\n",
       "            display: inline-block;\n",
       "        }\n",
       "\n",
       "        .graph-legend .success { background-color: #2BD62E }\n",
       "        .graph-legend .failed { background-color: #DE322F }\n",
       "        .graph-legend .cancelled { background-color: #DDDDDD }\n",
       "        .graph-legend .in-progress { background-color: #53C9ED }\n",
       "        .graph-legend .caught-error { background-color: #FFA500 }\n",
       "    </style>\n",
       "    <div class=\"graph-legend\">\n",
       "        <ul>\n",
       "            <li>\n",
       "                <div class=\"success\"></div>\n",
       "                <span>Success</span>\n",
       "            </li>\n",
       "            <li>\n",
       "                <div class=\"failed\"></div>\n",
       "                <span>Failed</span>\n",
       "            </li>\n",
       "            <li>\n",
       "                <div class=\"cancelled\"></div>\n",
       "                <span>Cancelled</span>\n",
       "            </li>\n",
       "            <li>\n",
       "                <div class=\"in-progress\"></div>\n",
       "                <span>In Progress</span>\n",
       "            </li>\n",
       "            <li>\n",
       "                <div class=\"caught-error\"></div>\n",
       "                <span>Caught Error</span>\n",
       "            </li>\n",
       "        </ul>\n",
       "    </div>\n",
       "\n",
       "    <svg></svg>\n",
       "    <a href=\"https://console.aws.amazon.com/states/home?region=us-east-1#/executions/details/arn:aws:states:us-east-1:389535300735:execution:MyWorkflow-BYOC-MaskRCNN-76b9b6dc445c11ea8176cdf90f0dd667:c73848ca-fca3-4d8b-b9e5-895cf4f8a3e4\" target=\"_blank\"> Inspect in AWS Step Functions </a>\n",
       "</div>\n",
       "\n",
       "<script type=\"text/javascript\">\n",
       "\n",
       "require.config({\n",
       "    paths: {\n",
       "        sfn: \"https://do0of8uwbahzz.cloudfront.net/sfn\",\n",
       "    }\n",
       "});\n",
       "\n",
       "require(['sfn'], function(sfn) {\n",
       "    var options = {\n",
       "        width: $('#graph-839').width(),\n",
       "        height: 1000,\n",
       "        layout: 'LR',\n",
       "        resizeHeight: true\n",
       "    };\n",
       "\n",
       "    var definition = {\"StartAt\": \"Calls CodeBuild to Build Container\", \"States\": {\"Calls CodeBuild to Build Container\": {\"Parameters\": {\"FunctionName\": \"Docker_Lambda\", \"Payload\": {\"input\": \"HelloWorld\"}}, \"Resource\": \"arn:aws:states:::lambda:invoke\", \"Type\": \"Task\", \"Next\": \"Train Step\", \"Retry\": [{\"ErrorEquals\": [\"States.TaskFailed\"], \"IntervalSeconds\": 15, \"MaxAttempts\": 2, \"BackoffRate\": 4.0}], \"Catch\": [{\"ErrorEquals\": [\"States.TaskFailed\"], \"Next\": \"LambdaTaskFailed\"}]}, \"Train Step\": {\"Resource\": \"arn:aws:states:::sagemaker:createTrainingJob.sync\", \"Parameters\": {\"AlgorithmSpecification\": {\"TrainingImage\": \"389535300735.dkr.ecr.us-east-1.amazonaws.com/sm-container-maskrcnn:torch\", \"TrainingInputMode\": \"File\"}, \"OutputDataConfig\": {\"S3OutputPath\": \"s3://sagemaker-us-east-1-389535300735/BYO-Mask-RCNN/output\"}, \"StoppingCondition\": {\"MaxRuntimeInSeconds\": 86400}, \"ResourceConfig\": {\"InstanceCount\": 1, \"InstanceType\": \"ml.p2.xlarge\", \"VolumeSizeInGB\": 30}, \"RoleArn\": \"arn:aws:iam::389535300735:role/service-role/AmazonSageMaker-ExecutionRole-20190823T110499\", \"InputDataConfig\": [{\"DataSource\": {\"S3DataSource\": {\"S3DataDistributionType\": \"FullyReplicated\", \"S3DataType\": \"S3Prefix\", \"S3Uri\": \"s3://sagemaker-us-east-1-389535300735/BYO-Mask-RCNN\"}}, \"ChannelName\": \"training\"}], \"HyperParameters\": {\"num_epochs\": \"1\", \"num_classes\": \"2\"}, \"TrainingJobName.$\": \"$$.Execution.Input['JobName']\"}, \"Type\": \"Task\", \"Next\": \"Save model\"}, \"Save model\": {\"Parameters\": {\"ExecutionRoleArn\": \"arn:aws:iam::389535300735:role/service-role/AmazonSageMaker-ExecutionRole-20190823T110499\", \"ModelName.$\": \"$$.Execution.Input['ModelName']\", \"PrimaryContainer\": {\"Environment\": {}, \"Image\": \"389535300735.dkr.ecr.us-east-1.amazonaws.com/sm-container-maskrcnn:torch\", \"ModelDataUrl.$\": \"$['ModelArtifacts']['S3ModelArtifacts']\"}}, \"Resource\": \"arn:aws:states:::sagemaker:createModel\", \"Type\": \"Task\", \"Next\": \"Create Endpoint Config\"}, \"Create Endpoint Config\": {\"Resource\": \"arn:aws:states:::sagemaker:createEndpointConfig\", \"Parameters\": {\"EndpointConfigName.$\": \"$$.Execution.Input['ModelName']\", \"ProductionVariants\": [{\"InitialInstanceCount\": 1, \"InstanceType\": \"ml.m5.large\", \"ModelName.$\": \"$$.Execution.Input['ModelName']\", \"VariantName\": \"AllTraffic\"}]}, \"Type\": \"Task\", \"Next\": \"Create Endpoint\"}, \"Create Endpoint\": {\"Resource\": \"arn:aws:states:::sagemaker:createEndpoint\", \"Parameters\": {\"EndpointConfigName.$\": \"$$.Execution.Input['ModelName']\", \"EndpointName.$\": \"$$.Execution.Input['EndpointName']\"}, \"Type\": \"Task\", \"End\": true}, \"LambdaTaskFailed\": {\"Type\": \"Fail\"}}};\n",
       "    var elementId = '#graph-839';\n",
       "    var events = { 'events': [{\"timestamp\": 1580497550.663, \"type\": \"ExecutionStarted\", \"id\": 1, \"previousEventId\": 0, \"executionStartedEventDetails\": {\"input\": \"{\\n    \\\"JobName\\\": \\\"BYOC-Mask-RCNN-b238a646445c11ea8176cdf90f0dd667\\\",\\n    \\\"ModelName\\\": \\\"BYOC-Mask-RCNN-b238a72c445c11ea8176cdf90f0dd667\\\",\\n    \\\"EndpointName\\\": \\\"BYOC-Mask-RCNN-b238a79a445c11ea8176cdf90f0dd667\\\"\\n}\", \"roleArn\": \"arn:aws:iam::389535300735:role/StepFunctionsSageMakerROle\"}}, {\"timestamp\": 1580497550.696, \"type\": \"TaskStateEntered\", \"id\": 2, \"previousEventId\": 0, \"stateEnteredEventDetails\": {\"name\": \"Calls CodeBuild to Build Container\", \"input\": \"{\\n    \\\"JobName\\\": \\\"BYOC-Mask-RCNN-b238a646445c11ea8176cdf90f0dd667\\\",\\n    \\\"ModelName\\\": \\\"BYOC-Mask-RCNN-b238a72c445c11ea8176cdf90f0dd667\\\",\\n    \\\"EndpointName\\\": \\\"BYOC-Mask-RCNN-b238a79a445c11ea8176cdf90f0dd667\\\"\\n}\"}}, {\"timestamp\": 1580497550.696, \"type\": \"TaskScheduled\", \"id\": 3, \"previousEventId\": 2, \"taskScheduledEventDetails\": {\"resourceType\": \"lambda\", \"resource\": \"invoke\", \"region\": \"us-east-1\", \"parameters\": \"{\\\"FunctionName\\\":\\\"Docker_Lambda\\\",\\\"Payload\\\":{\\\"input\\\":\\\"HelloWorld\\\"}}\"}}, {\"timestamp\": 1580497550.725, \"type\": \"TaskStarted\", \"id\": 4, \"previousEventId\": 3, \"taskStartedEventDetails\": {\"resourceType\": \"lambda\", \"resource\": \"invoke\"}}, {\"timestamp\": 1580497978.046, \"type\": \"TaskSucceeded\", \"id\": 5, \"previousEventId\": 4, \"taskSucceededEventDetails\": {\"resourceType\": \"lambda\", \"resource\": \"invoke\", \"output\": \"{\\\"ExecutedVersion\\\":\\\"$LATEST\\\",\\\"Payload\\\":{\\\"statusCode\\\":200,\\\"status\\\":\\\"SUCCEEDED\\\",\\\"buildtime\\\":420,\\\"buildid\\\":\\\"lambda-codebuild:10ebf718-1158-4d59-9661-c562f1c5aea4\\\",\\\"repo\\\":\\\"sm-container-maskrcnn\\\",\\\"image\\\":\\\"torch\\\"},\\\"SdkHttpMetadata\\\":{\\\"HttpHeaders\\\":{\\\"Connection\\\":\\\"keep-alive\\\",\\\"Content-Length\\\":\\\"179\\\",\\\"Content-Type\\\":\\\"application/json\\\",\\\"Date\\\":\\\"Fri, 31 Jan 2020 19:12:58 GMT\\\",\\\"X-Amz-Executed-Version\\\":\\\"$LATEST\\\",\\\"x-amzn-Remapped-Content-Length\\\":\\\"0\\\",\\\"x-amzn-RequestId\\\":\\\"03a2c6b6-1965-4b7a-bda5-52f47c6e6618\\\",\\\"X-Amzn-Trace-Id\\\":\\\"root=1-5e347a8e-46e815c6233fb272e33a1bd7;sampled=0\\\"},\\\"HttpStatusCode\\\":200},\\\"SdkResponseMetadata\\\":{\\\"RequestId\\\":\\\"03a2c6b6-1965-4b7a-bda5-52f47c6e6618\\\"},\\\"StatusCode\\\":200}\"}}, {\"timestamp\": 1580497978.046, \"type\": \"TaskStateExited\", \"id\": 6, \"previousEventId\": 5, \"stateExitedEventDetails\": {\"name\": \"Calls CodeBuild to Build Container\", \"output\": \"{\\\"ExecutedVersion\\\":\\\"$LATEST\\\",\\\"Payload\\\":{\\\"statusCode\\\":200,\\\"status\\\":\\\"SUCCEEDED\\\",\\\"buildtime\\\":420,\\\"buildid\\\":\\\"lambda-codebuild:10ebf718-1158-4d59-9661-c562f1c5aea4\\\",\\\"repo\\\":\\\"sm-container-maskrcnn\\\",\\\"image\\\":\\\"torch\\\"},\\\"SdkHttpMetadata\\\":{\\\"HttpHeaders\\\":{\\\"Connection\\\":\\\"keep-alive\\\",\\\"Content-Length\\\":\\\"179\\\",\\\"Content-Type\\\":\\\"application/json\\\",\\\"Date\\\":\\\"Fri, 31 Jan 2020 19:12:58 GMT\\\",\\\"X-Amz-Executed-Version\\\":\\\"$LATEST\\\",\\\"x-amzn-Remapped-Content-Length\\\":\\\"0\\\",\\\"x-amzn-RequestId\\\":\\\"03a2c6b6-1965-4b7a-bda5-52f47c6e6618\\\",\\\"X-Amzn-Trace-Id\\\":\\\"root=1-5e347a8e-46e815c6233fb272e33a1bd7;sampled=0\\\"},\\\"HttpStatusCode\\\":200},\\\"SdkResponseMetadata\\\":{\\\"RequestId\\\":\\\"03a2c6b6-1965-4b7a-bda5-52f47c6e6618\\\"},\\\"StatusCode\\\":200}\"}}, {\"timestamp\": 1580497978.061, \"type\": \"TaskStateEntered\", \"id\": 7, \"previousEventId\": 6, \"stateEnteredEventDetails\": {\"name\": \"Train Step\", \"input\": \"{\\\"ExecutedVersion\\\":\\\"$LATEST\\\",\\\"Payload\\\":{\\\"statusCode\\\":200,\\\"status\\\":\\\"SUCCEEDED\\\",\\\"buildtime\\\":420,\\\"buildid\\\":\\\"lambda-codebuild:10ebf718-1158-4d59-9661-c562f1c5aea4\\\",\\\"repo\\\":\\\"sm-container-maskrcnn\\\",\\\"image\\\":\\\"torch\\\"},\\\"SdkHttpMetadata\\\":{\\\"HttpHeaders\\\":{\\\"Connection\\\":\\\"keep-alive\\\",\\\"Content-Length\\\":\\\"179\\\",\\\"Content-Type\\\":\\\"application/json\\\",\\\"Date\\\":\\\"Fri, 31 Jan 2020 19:12:58 GMT\\\",\\\"X-Amz-Executed-Version\\\":\\\"$LATEST\\\",\\\"x-amzn-Remapped-Content-Length\\\":\\\"0\\\",\\\"x-amzn-RequestId\\\":\\\"03a2c6b6-1965-4b7a-bda5-52f47c6e6618\\\",\\\"X-Amzn-Trace-Id\\\":\\\"root=1-5e347a8e-46e815c6233fb272e33a1bd7;sampled=0\\\"},\\\"HttpStatusCode\\\":200},\\\"SdkResponseMetadata\\\":{\\\"RequestId\\\":\\\"03a2c6b6-1965-4b7a-bda5-52f47c6e6618\\\"},\\\"StatusCode\\\":200}\"}}, {\"timestamp\": 1580497978.061, \"type\": \"TaskScheduled\", \"id\": 8, \"previousEventId\": 7, \"taskScheduledEventDetails\": {\"resourceType\": \"sagemaker\", \"resource\": \"createTrainingJob.sync\", \"region\": \"us-east-1\", \"parameters\": \"{\\\"AlgorithmSpecification\\\":{\\\"TrainingImage\\\":\\\"389535300735.dkr.ecr.us-east-1.amazonaws.com/sm-container-maskrcnn:torch\\\",\\\"TrainingInputMode\\\":\\\"File\\\"},\\\"OutputDataConfig\\\":{\\\"S3OutputPath\\\":\\\"s3://sagemaker-us-east-1-389535300735/BYO-Mask-RCNN/output\\\"},\\\"StoppingCondition\\\":{\\\"MaxRuntimeInSeconds\\\":86400},\\\"ResourceConfig\\\":{\\\"InstanceCount\\\":1,\\\"InstanceType\\\":\\\"ml.p2.xlarge\\\",\\\"VolumeSizeInGB\\\":30},\\\"RoleArn\\\":\\\"arn:aws:iam::389535300735:role/service-role/AmazonSageMaker-ExecutionRole-20190823T110499\\\",\\\"InputDataConfig\\\":[{\\\"DataSource\\\":{\\\"S3DataSource\\\":{\\\"S3DataDistributionType\\\":\\\"FullyReplicated\\\",\\\"S3DataType\\\":\\\"S3Prefix\\\",\\\"S3Uri\\\":\\\"s3://sagemaker-us-east-1-389535300735/BYO-Mask-RCNN\\\"}},\\\"ChannelName\\\":\\\"training\\\"}],\\\"HyperParameters\\\":{\\\"num_epochs\\\":\\\"1\\\",\\\"num_classes\\\":\\\"2\\\"},\\\"TrainingJobName\\\":\\\"BYOC-Mask-RCNN-b238a646445c11ea8176cdf90f0dd667\\\",\\\"Tags\\\":[{\\\"Key\\\":\\\"MANAGED_BY_AWS\\\",\\\"Value\\\":\\\"STARTED_BY_STEP_FUNCTIONS\\\"}]}\"}}, {\"timestamp\": 1580497978.116, \"type\": \"TaskStarted\", \"id\": 9, \"previousEventId\": 8, \"taskStartedEventDetails\": {\"resourceType\": \"sagemaker\", \"resource\": \"createTrainingJob.sync\"}}, {\"timestamp\": 1580497978.339, \"type\": \"TaskSubmitted\", \"id\": 10, \"previousEventId\": 9, \"taskSubmittedEventDetails\": {\"resourceType\": \"sagemaker\", \"resource\": \"createTrainingJob.sync\", \"output\": \"{\\\"SdkHttpMetadata\\\":{\\\"HttpHeaders\\\":{\\\"Content-Length\\\":\\\"122\\\",\\\"Content-Type\\\":\\\"application/x-amz-json-1.1\\\",\\\"Date\\\":\\\"Fri, 31 Jan 2020 19:12:57 GMT\\\",\\\"x-amzn-RequestId\\\":\\\"49e2ead2-5665-4f48-8a39-5f3991f2d2a8\\\"},\\\"HttpStatusCode\\\":200},\\\"SdkResponseMetadata\\\":{\\\"RequestId\\\":\\\"49e2ead2-5665-4f48-8a39-5f3991f2d2a8\\\"},\\\"TrainingJobArn\\\":\\\"arn:aws:sagemaker:us-east-1:389535300735:training-job/byoc-mask-rcnn-b238a646445c11ea8176cdf90f0dd667\\\"}\"}}, {\"timestamp\": 1580498437.96, \"type\": \"TaskSucceeded\", \"id\": 11, \"previousEventId\": 10, \"taskSucceededEventDetails\": {\"resourceType\": \"sagemaker\", \"resource\": \"createTrainingJob.sync\", \"output\": \"{\\\"TrainingJobName\\\":\\\"BYOC-Mask-RCNN-b238a646445c11ea8176cdf90f0dd667\\\",\\\"TrainingJobArn\\\":\\\"arn:aws:sagemaker:us-east-1:389535300735:training-job/byoc-mask-rcnn-b238a646445c11ea8176cdf90f0dd667\\\",\\\"ModelArtifacts\\\":{\\\"S3ModelArtifacts\\\":\\\"s3://sagemaker-us-east-1-389535300735/BYO-Mask-RCNN/output/BYOC-Mask-RCNN-b238a646445c11ea8176cdf90f0dd667/output/model.tar.gz\\\"},\\\"TrainingJobStatus\\\":\\\"Completed\\\",\\\"SecondaryStatus\\\":\\\"Completed\\\",\\\"HyperParameters\\\":{\\\"num_classes\\\":\\\"2\\\",\\\"num_epochs\\\":\\\"1\\\"},\\\"AlgorithmSpecification\\\":{\\\"TrainingImage\\\":\\\"389535300735.dkr.ecr.us-east-1.amazonaws.com/sm-container-maskrcnn:torch\\\",\\\"TrainingInputMode\\\":\\\"FILE\\\"},\\\"RoleArn\\\":\\\"arn:aws:iam::389535300735:role/service-role/AmazonSageMaker-ExecutionRole-20190823T110499\\\",\\\"InputDataConfig\\\":[{\\\"ChannelName\\\":\\\"training\\\",\\\"DataSource\\\":{\\\"S3DataSource\\\":{\\\"S3DataType\\\":\\\"S3_PREFIX\\\",\\\"S3Uri\\\":\\\"s3://sagemaker-us-east-1-389535300735/BYO-Mask-RCNN\\\",\\\"S3DataDistributionType\\\":\\\"FULLY_REPLICATED\\\"}},\\\"CompressionType\\\":\\\"NONE\\\",\\\"RecordWrapperType\\\":\\\"NONE\\\"}],\\\"OutputDataConfig\\\":{\\\"S3OutputPath\\\":\\\"s3://sagemaker-us-east-1-389535300735/BYO-Mask-RCNN/output\\\"},\\\"ResourceConfig\\\":{\\\"InstanceType\\\":\\\"ml.p2.xlarge\\\",\\\"InstanceCount\\\":1.0,\\\"VolumeSizeInGB\\\":30.0},\\\"StoppingCondition\\\":{\\\"MaxRuntimeInSeconds\\\":86400.0},\\\"CreationTime\\\":1.580497978314E12,\\\"TrainingStartTime\\\":1.580498132995E12,\\\"TrainingEndTime\\\":1.580498428533E12,\\\"LastModifiedTime\\\":1.580498428533E12,\\\"SecondaryStatusTransitions\\\":[{\\\"Status\\\":\\\"Starting\\\",\\\"StartTime\\\":1.580497978314E12,\\\"EndTime\\\":1.580498132995E12,\\\"StatusMessage\\\":\\\"Preparing the instances for training\\\"},{\\\"Status\\\":\\\"Downloading\\\",\\\"StartTime\\\":1.580498132995E12,\\\"EndTime\\\":1.58049815107E12,\\\"StatusMessage\\\":\\\"Downloading input data\\\"},{\\\"Status\\\":\\\"Training\\\",\\\"StartTime\\\":1.58049815107E12,\\\"EndTime\\\":1.580498397368E12,\\\"StatusMessage\\\":\\\"Training image download completed. Training in progress.\\\"},{\\\"Status\\\":\\\"Uploading\\\",\\\"StartTime\\\":1.580498397368E12,\\\"EndTime\\\":1.580498428533E12,\\\"StatusMessage\\\":\\\"Uploading generated training model\\\"},{\\\"Status\\\":\\\"Completed\\\",\\\"StartTime\\\":1.580498428533E12,\\\"EndTime\\\":1.580498428533E12,\\\"StatusMessage\\\":\\\"Training job completed\\\"}],\\\"Tags\\\":{\\\"AWS_STEP_FUNCTIONS_EXECUTION_ARN\\\":\\\"arn:aws:states:us-east-1:389535300735:execution:MyWorkflow-BYOC-MaskRCNN-76b9b6dc445c11ea8176cdf90f0dd667:c73848ca-fca3-4d8b-b9e5-895cf4f8a3e4\\\",\\\"MANAGED_BY_AWS\\\":\\\"STARTED_BY_STEP_FUNCTIONS\\\"}}\"}}, {\"timestamp\": 1580498437.96, \"type\": \"TaskStateExited\", \"id\": 12, \"previousEventId\": 11, \"stateExitedEventDetails\": {\"name\": \"Train Step\", \"output\": \"{\\\"TrainingJobName\\\":\\\"BYOC-Mask-RCNN-b238a646445c11ea8176cdf90f0dd667\\\",\\\"TrainingJobArn\\\":\\\"arn:aws:sagemaker:us-east-1:389535300735:training-job/byoc-mask-rcnn-b238a646445c11ea8176cdf90f0dd667\\\",\\\"ModelArtifacts\\\":{\\\"S3ModelArtifacts\\\":\\\"s3://sagemaker-us-east-1-389535300735/BYO-Mask-RCNN/output/BYOC-Mask-RCNN-b238a646445c11ea8176cdf90f0dd667/output/model.tar.gz\\\"},\\\"TrainingJobStatus\\\":\\\"Completed\\\",\\\"SecondaryStatus\\\":\\\"Completed\\\",\\\"HyperParameters\\\":{\\\"num_classes\\\":\\\"2\\\",\\\"num_epochs\\\":\\\"1\\\"},\\\"AlgorithmSpecification\\\":{\\\"TrainingImage\\\":\\\"389535300735.dkr.ecr.us-east-1.amazonaws.com/sm-container-maskrcnn:torch\\\",\\\"TrainingInputMode\\\":\\\"FILE\\\"},\\\"RoleArn\\\":\\\"arn:aws:iam::389535300735:role/service-role/AmazonSageMaker-ExecutionRole-20190823T110499\\\",\\\"InputDataConfig\\\":[{\\\"ChannelName\\\":\\\"training\\\",\\\"DataSource\\\":{\\\"S3DataSource\\\":{\\\"S3DataType\\\":\\\"S3_PREFIX\\\",\\\"S3Uri\\\":\\\"s3://sagemaker-us-east-1-389535300735/BYO-Mask-RCNN\\\",\\\"S3DataDistributionType\\\":\\\"FULLY_REPLICATED\\\"}},\\\"CompressionType\\\":\\\"NONE\\\",\\\"RecordWrapperType\\\":\\\"NONE\\\"}],\\\"OutputDataConfig\\\":{\\\"S3OutputPath\\\":\\\"s3://sagemaker-us-east-1-389535300735/BYO-Mask-RCNN/output\\\"},\\\"ResourceConfig\\\":{\\\"InstanceType\\\":\\\"ml.p2.xlarge\\\",\\\"InstanceCount\\\":1.0,\\\"VolumeSizeInGB\\\":30.0},\\\"StoppingCondition\\\":{\\\"MaxRuntimeInSeconds\\\":86400.0},\\\"CreationTime\\\":1.580497978314E12,\\\"TrainingStartTime\\\":1.580498132995E12,\\\"TrainingEndTime\\\":1.580498428533E12,\\\"LastModifiedTime\\\":1.580498428533E12,\\\"SecondaryStatusTransitions\\\":[{\\\"Status\\\":\\\"Starting\\\",\\\"StartTime\\\":1.580497978314E12,\\\"EndTime\\\":1.580498132995E12,\\\"StatusMessage\\\":\\\"Preparing the instances for training\\\"},{\\\"Status\\\":\\\"Downloading\\\",\\\"StartTime\\\":1.580498132995E12,\\\"EndTime\\\":1.58049815107E12,\\\"StatusMessage\\\":\\\"Downloading input data\\\"},{\\\"Status\\\":\\\"Training\\\",\\\"StartTime\\\":1.58049815107E12,\\\"EndTime\\\":1.580498397368E12,\\\"StatusMessage\\\":\\\"Training image download completed. Training in progress.\\\"},{\\\"Status\\\":\\\"Uploading\\\",\\\"StartTime\\\":1.580498397368E12,\\\"EndTime\\\":1.580498428533E12,\\\"StatusMessage\\\":\\\"Uploading generated training model\\\"},{\\\"Status\\\":\\\"Completed\\\",\\\"StartTime\\\":1.580498428533E12,\\\"EndTime\\\":1.580498428533E12,\\\"StatusMessage\\\":\\\"Training job completed\\\"}],\\\"Tags\\\":{\\\"AWS_STEP_FUNCTIONS_EXECUTION_ARN\\\":\\\"arn:aws:states:us-east-1:389535300735:execution:MyWorkflow-BYOC-MaskRCNN-76b9b6dc445c11ea8176cdf90f0dd667:c73848ca-fca3-4d8b-b9e5-895cf4f8a3e4\\\",\\\"MANAGED_BY_AWS\\\":\\\"STARTED_BY_STEP_FUNCTIONS\\\"}}\"}}, {\"timestamp\": 1580498437.972, \"type\": \"TaskStateEntered\", \"id\": 13, \"previousEventId\": 12, \"stateEnteredEventDetails\": {\"name\": \"Save model\", \"input\": \"{\\\"TrainingJobName\\\":\\\"BYOC-Mask-RCNN-b238a646445c11ea8176cdf90f0dd667\\\",\\\"TrainingJobArn\\\":\\\"arn:aws:sagemaker:us-east-1:389535300735:training-job/byoc-mask-rcnn-b238a646445c11ea8176cdf90f0dd667\\\",\\\"ModelArtifacts\\\":{\\\"S3ModelArtifacts\\\":\\\"s3://sagemaker-us-east-1-389535300735/BYO-Mask-RCNN/output/BYOC-Mask-RCNN-b238a646445c11ea8176cdf90f0dd667/output/model.tar.gz\\\"},\\\"TrainingJobStatus\\\":\\\"Completed\\\",\\\"SecondaryStatus\\\":\\\"Completed\\\",\\\"HyperParameters\\\":{\\\"num_classes\\\":\\\"2\\\",\\\"num_epochs\\\":\\\"1\\\"},\\\"AlgorithmSpecification\\\":{\\\"TrainingImage\\\":\\\"389535300735.dkr.ecr.us-east-1.amazonaws.com/sm-container-maskrcnn:torch\\\",\\\"TrainingInputMode\\\":\\\"FILE\\\"},\\\"RoleArn\\\":\\\"arn:aws:iam::389535300735:role/service-role/AmazonSageMaker-ExecutionRole-20190823T110499\\\",\\\"InputDataConfig\\\":[{\\\"ChannelName\\\":\\\"training\\\",\\\"DataSource\\\":{\\\"S3DataSource\\\":{\\\"S3DataType\\\":\\\"S3_PREFIX\\\",\\\"S3Uri\\\":\\\"s3://sagemaker-us-east-1-389535300735/BYO-Mask-RCNN\\\",\\\"S3DataDistributionType\\\":\\\"FULLY_REPLICATED\\\"}},\\\"CompressionType\\\":\\\"NONE\\\",\\\"RecordWrapperType\\\":\\\"NONE\\\"}],\\\"OutputDataConfig\\\":{\\\"S3OutputPath\\\":\\\"s3://sagemaker-us-east-1-389535300735/BYO-Mask-RCNN/output\\\"},\\\"ResourceConfig\\\":{\\\"InstanceType\\\":\\\"ml.p2.xlarge\\\",\\\"InstanceCount\\\":1.0,\\\"VolumeSizeInGB\\\":30.0},\\\"StoppingCondition\\\":{\\\"MaxRuntimeInSeconds\\\":86400.0},\\\"CreationTime\\\":1.580497978314E12,\\\"TrainingStartTime\\\":1.580498132995E12,\\\"TrainingEndTime\\\":1.580498428533E12,\\\"LastModifiedTime\\\":1.580498428533E12,\\\"SecondaryStatusTransitions\\\":[{\\\"Status\\\":\\\"Starting\\\",\\\"StartTime\\\":1.580497978314E12,\\\"EndTime\\\":1.580498132995E12,\\\"StatusMessage\\\":\\\"Preparing the instances for training\\\"},{\\\"Status\\\":\\\"Downloading\\\",\\\"StartTime\\\":1.580498132995E12,\\\"EndTime\\\":1.58049815107E12,\\\"StatusMessage\\\":\\\"Downloading input data\\\"},{\\\"Status\\\":\\\"Training\\\",\\\"StartTime\\\":1.58049815107E12,\\\"EndTime\\\":1.580498397368E12,\\\"StatusMessage\\\":\\\"Training image download completed. Training in progress.\\\"},{\\\"Status\\\":\\\"Uploading\\\",\\\"StartTime\\\":1.580498397368E12,\\\"EndTime\\\":1.580498428533E12,\\\"StatusMessage\\\":\\\"Uploading generated training model\\\"},{\\\"Status\\\":\\\"Completed\\\",\\\"StartTime\\\":1.580498428533E12,\\\"EndTime\\\":1.580498428533E12,\\\"StatusMessage\\\":\\\"Training job completed\\\"}],\\\"Tags\\\":{\\\"AWS_STEP_FUNCTIONS_EXECUTION_ARN\\\":\\\"arn:aws:states:us-east-1:389535300735:execution:MyWorkflow-BYOC-MaskRCNN-76b9b6dc445c11ea8176cdf90f0dd667:c73848ca-fca3-4d8b-b9e5-895cf4f8a3e4\\\",\\\"MANAGED_BY_AWS\\\":\\\"STARTED_BY_STEP_FUNCTIONS\\\"}}\"}}, {\"timestamp\": 1580498437.972, \"type\": \"TaskScheduled\", \"id\": 14, \"previousEventId\": 13, \"taskScheduledEventDetails\": {\"resourceType\": \"sagemaker\", \"resource\": \"createModel\", \"region\": \"us-east-1\", \"parameters\": \"{\\\"ExecutionRoleArn\\\":\\\"arn:aws:iam::389535300735:role/service-role/AmazonSageMaker-ExecutionRole-20190823T110499\\\",\\\"PrimaryContainer\\\":{\\\"Environment\\\":{},\\\"Image\\\":\\\"389535300735.dkr.ecr.us-east-1.amazonaws.com/sm-container-maskrcnn:torch\\\",\\\"ModelDataUrl\\\":\\\"s3://sagemaker-us-east-1-389535300735/BYO-Mask-RCNN/output/BYOC-Mask-RCNN-b238a646445c11ea8176cdf90f0dd667/output/model.tar.gz\\\"},\\\"ModelName\\\":\\\"BYOC-Mask-RCNN-b238a72c445c11ea8176cdf90f0dd667\\\"}\"}}, {\"timestamp\": 1580498437.993, \"type\": \"TaskStarted\", \"id\": 15, \"previousEventId\": 14, \"taskStartedEventDetails\": {\"resourceType\": \"sagemaker\", \"resource\": \"createModel\"}}, {\"timestamp\": 1580498438.306, \"type\": \"TaskSucceeded\", \"id\": 16, \"previousEventId\": 15, \"taskSucceededEventDetails\": {\"resourceType\": \"sagemaker\", \"resource\": \"createModel\", \"output\": \"{\\\"ModelArn\\\":\\\"arn:aws:sagemaker:us-east-1:389535300735:model/byoc-mask-rcnn-b238a72c445c11ea8176cdf90f0dd667\\\",\\\"SdkHttpMetadata\\\":{\\\"HttpHeaders\\\":{\\\"Content-Length\\\":\\\"109\\\",\\\"Content-Type\\\":\\\"application/x-amz-json-1.1\\\",\\\"Date\\\":\\\"Fri, 31 Jan 2020 19:20:37 GMT\\\",\\\"x-amzn-RequestId\\\":\\\"e256d369-ef60-4816-824c-25155f60674e\\\"},\\\"HttpStatusCode\\\":200},\\\"SdkResponseMetadata\\\":{\\\"RequestId\\\":\\\"e256d369-ef60-4816-824c-25155f60674e\\\"}}\"}}, {\"timestamp\": 1580498438.306, \"type\": \"TaskStateExited\", \"id\": 17, \"previousEventId\": 16, \"stateExitedEventDetails\": {\"name\": \"Save model\", \"output\": \"{\\\"ModelArn\\\":\\\"arn:aws:sagemaker:us-east-1:389535300735:model/byoc-mask-rcnn-b238a72c445c11ea8176cdf90f0dd667\\\",\\\"SdkHttpMetadata\\\":{\\\"HttpHeaders\\\":{\\\"Content-Length\\\":\\\"109\\\",\\\"Content-Type\\\":\\\"application/x-amz-json-1.1\\\",\\\"Date\\\":\\\"Fri, 31 Jan 2020 19:20:37 GMT\\\",\\\"x-amzn-RequestId\\\":\\\"e256d369-ef60-4816-824c-25155f60674e\\\"},\\\"HttpStatusCode\\\":200},\\\"SdkResponseMetadata\\\":{\\\"RequestId\\\":\\\"e256d369-ef60-4816-824c-25155f60674e\\\"}}\"}}, {\"timestamp\": 1580498438.314, \"type\": \"TaskStateEntered\", \"id\": 18, \"previousEventId\": 17, \"stateEnteredEventDetails\": {\"name\": \"Create Endpoint Config\", \"input\": \"{\\\"ModelArn\\\":\\\"arn:aws:sagemaker:us-east-1:389535300735:model/byoc-mask-rcnn-b238a72c445c11ea8176cdf90f0dd667\\\",\\\"SdkHttpMetadata\\\":{\\\"HttpHeaders\\\":{\\\"Content-Length\\\":\\\"109\\\",\\\"Content-Type\\\":\\\"application/x-amz-json-1.1\\\",\\\"Date\\\":\\\"Fri, 31 Jan 2020 19:20:37 GMT\\\",\\\"x-amzn-RequestId\\\":\\\"e256d369-ef60-4816-824c-25155f60674e\\\"},\\\"HttpStatusCode\\\":200},\\\"SdkResponseMetadata\\\":{\\\"RequestId\\\":\\\"e256d369-ef60-4816-824c-25155f60674e\\\"}}\"}}, {\"timestamp\": 1580498438.314, \"type\": \"TaskScheduled\", \"id\": 19, \"previousEventId\": 18, \"taskScheduledEventDetails\": {\"resourceType\": \"sagemaker\", \"resource\": \"createEndpointConfig\", \"region\": \"us-east-1\", \"parameters\": \"{\\\"ProductionVariants\\\":[{\\\"InitialInstanceCount\\\":1,\\\"InstanceType\\\":\\\"ml.m5.large\\\",\\\"VariantName\\\":\\\"AllTraffic\\\",\\\"ModelName\\\":\\\"BYOC-Mask-RCNN-b238a72c445c11ea8176cdf90f0dd667\\\"}],\\\"EndpointConfigName\\\":\\\"BYOC-Mask-RCNN-b238a72c445c11ea8176cdf90f0dd667\\\"}\"}}, {\"timestamp\": 1580498438.324, \"type\": \"TaskStarted\", \"id\": 20, \"previousEventId\": 19, \"taskStartedEventDetails\": {\"resourceType\": \"sagemaker\", \"resource\": \"createEndpointConfig\"}}, {\"timestamp\": 1580498438.424, \"type\": \"TaskSucceeded\", \"id\": 21, \"previousEventId\": 20, \"taskSucceededEventDetails\": {\"resourceType\": \"sagemaker\", \"resource\": \"createEndpointConfig\", \"output\": \"{\\\"EndpointConfigArn\\\":\\\"arn:aws:sagemaker:us-east-1:389535300735:endpoint-config/byoc-mask-rcnn-b238a72c445c11ea8176cdf90f0dd667\\\",\\\"SdkHttpMetadata\\\":{\\\"HttpHeaders\\\":{\\\"Content-Length\\\":\\\"128\\\",\\\"Content-Type\\\":\\\"application/x-amz-json-1.1\\\",\\\"Date\\\":\\\"Fri, 31 Jan 2020 19:20:37 GMT\\\",\\\"x-amzn-RequestId\\\":\\\"2caff05c-717f-4cb8-adaf-a6570bfb956a\\\"},\\\"HttpStatusCode\\\":200},\\\"SdkResponseMetadata\\\":{\\\"RequestId\\\":\\\"2caff05c-717f-4cb8-adaf-a6570bfb956a\\\"}}\"}}, {\"timestamp\": 1580498438.424, \"type\": \"TaskStateExited\", \"id\": 22, \"previousEventId\": 21, \"stateExitedEventDetails\": {\"name\": \"Create Endpoint Config\", \"output\": \"{\\\"EndpointConfigArn\\\":\\\"arn:aws:sagemaker:us-east-1:389535300735:endpoint-config/byoc-mask-rcnn-b238a72c445c11ea8176cdf90f0dd667\\\",\\\"SdkHttpMetadata\\\":{\\\"HttpHeaders\\\":{\\\"Content-Length\\\":\\\"128\\\",\\\"Content-Type\\\":\\\"application/x-amz-json-1.1\\\",\\\"Date\\\":\\\"Fri, 31 Jan 2020 19:20:37 GMT\\\",\\\"x-amzn-RequestId\\\":\\\"2caff05c-717f-4cb8-adaf-a6570bfb956a\\\"},\\\"HttpStatusCode\\\":200},\\\"SdkResponseMetadata\\\":{\\\"RequestId\\\":\\\"2caff05c-717f-4cb8-adaf-a6570bfb956a\\\"}}\"}}, {\"timestamp\": 1580498438.431, \"type\": \"TaskStateEntered\", \"id\": 23, \"previousEventId\": 22, \"stateEnteredEventDetails\": {\"name\": \"Create Endpoint\", \"input\": \"{\\\"EndpointConfigArn\\\":\\\"arn:aws:sagemaker:us-east-1:389535300735:endpoint-config/byoc-mask-rcnn-b238a72c445c11ea8176cdf90f0dd667\\\",\\\"SdkHttpMetadata\\\":{\\\"HttpHeaders\\\":{\\\"Content-Length\\\":\\\"128\\\",\\\"Content-Type\\\":\\\"application/x-amz-json-1.1\\\",\\\"Date\\\":\\\"Fri, 31 Jan 2020 19:20:37 GMT\\\",\\\"x-amzn-RequestId\\\":\\\"2caff05c-717f-4cb8-adaf-a6570bfb956a\\\"},\\\"HttpStatusCode\\\":200},\\\"SdkResponseMetadata\\\":{\\\"RequestId\\\":\\\"2caff05c-717f-4cb8-adaf-a6570bfb956a\\\"}}\"}}, {\"timestamp\": 1580498438.431, \"type\": \"TaskScheduled\", \"id\": 24, \"previousEventId\": 23, \"taskScheduledEventDetails\": {\"resourceType\": \"sagemaker\", \"resource\": \"createEndpoint\", \"region\": \"us-east-1\", \"parameters\": \"{\\\"EndpointName\\\":\\\"BYOC-Mask-RCNN-b238a79a445c11ea8176cdf90f0dd667\\\",\\\"EndpointConfigName\\\":\\\"BYOC-Mask-RCNN-b238a72c445c11ea8176cdf90f0dd667\\\"}\"}}, {\"timestamp\": 1580498438.442, \"type\": \"TaskStarted\", \"id\": 25, \"previousEventId\": 24, \"taskStartedEventDetails\": {\"resourceType\": \"sagemaker\", \"resource\": \"createEndpoint\"}}, {\"timestamp\": 1580498438.635, \"type\": \"TaskSucceeded\", \"id\": 26, \"previousEventId\": 25, \"taskSucceededEventDetails\": {\"resourceType\": \"sagemaker\", \"resource\": \"createEndpoint\", \"output\": \"{\\\"EndpointArn\\\":\\\"arn:aws:sagemaker:us-east-1:389535300735:endpoint/byoc-mask-rcnn-b238a79a445c11ea8176cdf90f0dd667\\\",\\\"SdkHttpMetadata\\\":{\\\"HttpHeaders\\\":{\\\"Content-Length\\\":\\\"115\\\",\\\"Content-Type\\\":\\\"application/x-amz-json-1.1\\\",\\\"Date\\\":\\\"Fri, 31 Jan 2020 19:20:38 GMT\\\",\\\"x-amzn-RequestId\\\":\\\"24a8daf7-2f74-46f9-9cb5-d3fa52cddc9d\\\"},\\\"HttpStatusCode\\\":200},\\\"SdkResponseMetadata\\\":{\\\"RequestId\\\":\\\"24a8daf7-2f74-46f9-9cb5-d3fa52cddc9d\\\"}}\"}}, {\"timestamp\": 1580498438.635, \"type\": \"TaskStateExited\", \"id\": 27, \"previousEventId\": 26, \"stateExitedEventDetails\": {\"name\": \"Create Endpoint\", \"output\": \"{\\\"EndpointArn\\\":\\\"arn:aws:sagemaker:us-east-1:389535300735:endpoint/byoc-mask-rcnn-b238a79a445c11ea8176cdf90f0dd667\\\",\\\"SdkHttpMetadata\\\":{\\\"HttpHeaders\\\":{\\\"Content-Length\\\":\\\"115\\\",\\\"Content-Type\\\":\\\"application/x-amz-json-1.1\\\",\\\"Date\\\":\\\"Fri, 31 Jan 2020 19:20:38 GMT\\\",\\\"x-amzn-RequestId\\\":\\\"24a8daf7-2f74-46f9-9cb5-d3fa52cddc9d\\\"},\\\"HttpStatusCode\\\":200},\\\"SdkResponseMetadata\\\":{\\\"RequestId\\\":\\\"24a8daf7-2f74-46f9-9cb5-d3fa52cddc9d\\\"}}\"}}, {\"timestamp\": 1580498438.635, \"type\": \"ExecutionSucceeded\", \"id\": 28, \"previousEventId\": 27, \"executionSucceededEventDetails\": {\"output\": \"{\\\"EndpointArn\\\":\\\"arn:aws:sagemaker:us-east-1:389535300735:endpoint/byoc-mask-rcnn-b238a79a445c11ea8176cdf90f0dd667\\\",\\\"SdkHttpMetadata\\\":{\\\"HttpHeaders\\\":{\\\"Content-Length\\\":\\\"115\\\",\\\"Content-Type\\\":\\\"application/x-amz-json-1.1\\\",\\\"Date\\\":\\\"Fri, 31 Jan 2020 19:20:38 GMT\\\",\\\"x-amzn-RequestId\\\":\\\"24a8daf7-2f74-46f9-9cb5-d3fa52cddc9d\\\"},\\\"HttpStatusCode\\\":200},\\\"SdkResponseMetadata\\\":{\\\"RequestId\\\":\\\"24a8daf7-2f74-46f9-9cb5-d3fa52cddc9d\\\"}}\"}}] };\n",
       "\n",
       "    var graph = new sfn.StateMachineExecutionGraph(definition, events, elementId, options);\n",
       "    graph.render();\n",
       "});\n",
       "\n",
       "</script>\n"
      ]
     },
     "metadata": {},
     "output_type": "display_data"
    }
   ],
   "source": [
    "from IPython.display import display, display_html\n",
    "while True:\n",
    "    display_html(execution.render_progress())\n",
    "    time.sleep(60)"
   ]
  },
  {
   "cell_type": "code",
   "execution_count": null,
   "metadata": {},
   "outputs": [],
   "source": []
  },
  {
   "cell_type": "code",
   "execution_count": null,
   "metadata": {},
   "outputs": [],
   "source": []
  },
  {
   "cell_type": "markdown",
   "metadata": {},
   "source": [
    "## Inferences\n",
    "\n",
    "Once your model is deployed, you can run inferences using this endpoint by using the SageMaker RealTimePredictor API. Please refer to the existing SageMaker documentation for how to do this.\n",
    "\n",
    "Also to ensure you don't rack up costs, make sure you delete the endpoint once you are done. "
   ]
  },
  {
   "cell_type": "markdown",
   "metadata": {},
   "source": [
    "## End"
   ]
  },
  {
   "cell_type": "code",
   "execution_count": null,
   "metadata": {},
   "outputs": [],
   "source": []
  }
 ],
 "metadata": {
  "kernelspec": {
   "display_name": "Python 3",
   "language": "python",
   "name": "python3"
  },
  "language_info": {
   "codemirror_mode": {
    "name": "ipython",
    "version": 3
   },
   "file_extension": ".py",
   "mimetype": "text/x-python",
   "name": "python",
   "nbconvert_exporter": "python",
   "pygments_lexer": "ipython3",
   "version": "3.7.3"
  }
 },
 "nbformat": 4,
 "nbformat_minor": 2
}
